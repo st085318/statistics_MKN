{
 "cells": [
  {
   "cell_type": "code",
   "execution_count": 8,
   "id": "58dec4fd",
   "metadata": {},
   "outputs": [
    {
     "data": {
      "text/plain": [
       "(0.03154932398421728, 0.33460705383028433)"
      ]
     },
     "execution_count": 8,
     "metadata": {},
     "output_type": "execute_result"
    }
   ],
   "source": [
    "import numpy as np\n",
    "import math\n",
    "import scipy.stats as sps\n",
    "\n",
    "def g(p):\n",
    "    return -2*np.arcsin(np.sqrt(1 - p))\n",
    "\n",
    "def g_reverse(t):\n",
    "    return 1 - np.sin(- t / 2) ** 2\n",
    "\n",
    "prob = 3/20\n",
    "n = 20\n",
    "alpha = 0.95\n",
    "z_al = sps.norm().ppf((1 - alpha) / 2)\n",
    "z_nal = sps.norm().ppf((1 + alpha) / 2)\n",
    "l = g(prob) + z_al/(np.sqrt(n))\n",
    "r = g(prob) + z_nal/(np.sqrt(n))\n",
    "g_reverse(l), g_reverse(r)"
   ]
  },
  {
   "cell_type": "markdown",
   "id": "98714b0f",
   "metadata": {},
   "source": [
    "#3 \n",
    "\\\n",
    "    $$\n",
    "    \\begin{equation*}\n",
    "        g(t) := \n",
    "         \\begin{cases}\n",
    "           0 &\\text{t > 1 or t < 0}\\\\\n",
    "           \\frac{2t - 1}{t^{n-1}} &\\text{t $\\in [0, 1]$}\n",
    "         \\end{cases}\n",
    "        \\end{equation*}\n",
    "    $$\n",
    "    $$\n",
    "            \\begin{equation*}\n",
    "            F(t) = \n",
    "             \\begin{cases}\n",
    "               0 &\\text{$t < 0$}\\\\\n",
    "               1 &\\text{$t > \\theta$}\\\\\n",
    "               \\mathbb{P}(max(X_{[n]}) < t) &\\text{t $\\in$ $[0, \\theta]$}\n",
    "             \\end{cases}\n",
    "            \\end{equation*}\n",
    "    $$\n",
    "    $$\n",
    "       \\text{пусть t $\\in$ $[0, \\theta]$ }\\mathfrak{p}(t) = F'(t) = \\frac{d}{dt}\\mathbb{P}(max(X_{[n]} < t) = \\frac{d}{dt}\\prod_i \\mathbb{P}(x_i < t) = \\frac{d}{dt} \\frac{t^n}{\\theta^n} = \\frac{nt^{n-1}}{\\theta^n} \\\\\n",
    "       \\text{при остальных t $\\mathbf{p}(t) = 0$}\n",
    "    $$\n",
    "    $$\n",
    "            \\begin{equation*}\n",
    "            \\mathfrak{p}(t) := \n",
    "             \\begin{cases}\n",
    "               0 &\\text{$t > \\theta$ or t < 0}\\\\\n",
    "               \\frac{nt^{n-1}}{\\theta^n} &\\text{t $\\in$ $[0, \\theta]$}\n",
    "             \\end{cases}\n",
    "            \\end{equation*}\n",
    "     $$\n",
    "     $$\n",
    "         \\mathbb{E}g = \\int_{\\mathbb{R}} g(t)\\mathfrak{p}(t) dt = \\int^{\\theta}_{0} g(t) \\frac{nt^{n-1}}{\\theta^n} dt = \\int^{1}_{0} \\frac{2t - 1}{t^{n-1}}*\\frac{nt^{n-1}}{\\theta^n} dt = \\frac{n}{\\theta^n} \\int^{1}_{0} 2t - 1 \\text{ } dt = 0\n",
    "     $$"
   ]
  },
  {
   "cell_type": "markdown",
   "id": "82db23e0",
   "metadata": {},
   "source": [
    "#4\n",
    "\\\n",
    "Возьмем $max(1, x_{(n)})$.\n",
    "Для достаточности достаточно взять $g(T, \\theta) = \\frac{\\mathbb{1}_{[0, \\theta]}(T)}{\\theta^n}$, $h(x_{[n]}) = \\mathbb{1}_{[0, \\theta] ^ n}(x_{[n]})$ , а полноту сейчас покажем\n",
    "$$\n",
    "             \\begin{equation*}\n",
    "            F(t) = \n",
    "             \\begin{cases}\n",
    "               0 &\\text{$t < 1$}\\\\\n",
    "               1 &\\text{$t > \\theta$}\\\\\n",
    "               \\mathbb{P}(max(x_{(n)}, 1) < t) &\\text{t $\\in$ $[1, \\theta]$}\n",
    "             \\end{cases}\n",
    "            \\end{equation*}\n",
    "$$\n",
    "$$\n",
    "    \\mathbb{P}(max(x_{(n)}, 1) < t| t \\in [1, \\theta]) = \\mathbb{P}(max(X_{[n]}, 1| t \\in [1, \\theta]) = \n",
    "    $$\n",
    "    $$ = \\mathbb{P}(1 \\leq t | t \\in [1, \\theta])\\prod_i \\mathbb{P}(x_i < t| 1 \\leq t)  = \\text{*так как t -параметр*} = \\prod_i \\mathbb{P}(x_i < t) =\n",
    "    $$\n",
    "    $$ = \\frac{nt^{n-1}}{\\theta^n} $$\n",
    "    $$\\mathfrak{p}(t) = F'(t)$$\n",
    "    $$\n",
    "            \\begin{equation*}\n",
    "            \\mathfrak{p}(t) := \n",
    "             \\begin{cases}\n",
    "               0 &\\text{$t > \\theta$ or t < 1}\\\\\n",
    "               \\frac{nt^{n-1}}{\\theta^n} &\\text{t $\\in$ $[1, \\theta]$}\n",
    "             \\end{cases}\n",
    "            \\end{equation*}\n",
    "     $$\n",
    "     Заметим, что это просто смещенная плотность $x_{(n)}$ при $\\theta > 0$, а так как мы знаем полноту, то и наша статистика полная (иначе g - 1 контрпример, для $x_{(n)}$)"
   ]
  },
  {
   "cell_type": "markdown",
   "id": "8499285b",
   "metadata": {},
   "source": [
    "#5\n",
    "\\\n",
    "несмещенная оценка - $\\frac{n+1}{n}x_{(n)}$\n",
    "$$\\mathbb{E}(\\frac{n+1}{n}x_{(n)} | max(x_{(n)}, 1)) = \\frac{n+1}{n} \\mathbb{E}(x_{(n)} | max(x_{(n)}, 1))\n",
    "        \\begin{equation*}\n",
    "        = \\frac{n+1}{n}\n",
    "         \\begin{cases}\n",
    "           \\mathbb{E}(x_{(n)} | max(x_{(n)}, 1) = 1)\\\\\n",
    "           \\mathbb{E}(x_{(n)} | max(x_{(n)}, 1) > 1)\n",
    "         \\end{cases}\n",
    "        \\end{equation*}\n",
    "$$\n",
    "$$\\mathbb{E}(x_{(n)} | max(x_{(n)}, 1) > 1) = \\mathbb{E}(x_{(n)} | max(x_{(n)}, 1) = x_{(n)}) = x_{(n)}$$\n",
    "$$\n",
    "    \\mathbb{E}(x_{(n)} | max(x_{(n)}, 1) = 1) = \\mathbb{E}(x_{(n)} | x_{(n)} \\leq 1) = \\int t \\mathfrak{p}(t | x_{(n)} \\leq 1) dt = \\int_0^1 nt^n dt = \\frac{n}{n+1}\n",
    "$$\n",
    "$$\n",
    "    \\mathfrak{p}(t | x_{(n)} \\leq 1) = \\frac{nt^{n-1}}{\\theta^n}\\theta^{n} = nt^{n-1} \n",
    "    $$\n",
    "    $$\n",
    "    \\text{ где $\\theta^n$ возникает для нормировки плотности(чтоб интеграл = 1)}\n",
    "$$\n",
    "Вспомним про вынесенную константу, тогда получаем\n",
    "$$\n",
    "        \\begin{equation*}\n",
    "         \\begin{cases}\n",
    "           \\frac{n+1}{n}x_{(n)} &max(x_{(n)}, 1) = 1\\\\\n",
    "           1 &max(x_{(n)}, 1) > 1\\\\\n",
    "         \\end{cases}\n",
    "        \\end{equation*}\n",
    "$$"
   ]
  },
  {
   "cell_type": "code",
   "execution_count": null,
   "id": "0b781cfb",
   "metadata": {},
   "outputs": [],
   "source": []
  }
 ],
 "metadata": {
  "kernelspec": {
   "display_name": "Python 3 (ipykernel)",
   "language": "python",
   "name": "python3"
  },
  "language_info": {
   "codemirror_mode": {
    "name": "ipython",
    "version": 3
   },
   "file_extension": ".py",
   "mimetype": "text/x-python",
   "name": "python",
   "nbconvert_exporter": "python",
   "pygments_lexer": "ipython3",
   "version": "3.9.7"
  }
 },
 "nbformat": 4,
 "nbformat_minor": 5
}
