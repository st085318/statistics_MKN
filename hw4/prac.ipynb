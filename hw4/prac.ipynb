{
 "cells": [
  {
   "cell_type": "code",
   "execution_count": 4,
   "id": "fe6483df",
   "metadata": {},
   "outputs": [],
   "source": [
    "from scipy.optimize import minimize, LinearConstraint, NonlinearConstraint\n",
    "import math\n",
    "import numpy as np\n",
    "\n",
    "def fun(x):\n",
    "    x1, x2, x3 = x\n",
    "    return (np.array([math.cos(i/200) - x1 - x2 * i / 200 - x3 * ((i / 200) ** 2) for i in range(101)]) ** 2).sum()\n",
    "\n",
    "res = minimize(fun, x0 = (0, 0, 0))"
   ]
  },
  {
   "cell_type": "code",
   "execution_count": 5,
   "id": "b76eefcb",
   "metadata": {},
   "outputs": [
    {
     "data": {
      "text/plain": [
       "      fun: 1.0243263686923493e-06\n",
       " hess_inv: array([[ 0.04231113, -0.33504697,  0.55382692],\n",
       "       [-0.33504697,  3.59312965, -6.72275922],\n",
       "       [ 0.55382692, -6.72275922, 13.45028787]])\n",
       "      jac: array([-8.19148909e-08, -1.01340589e-08, -2.06732409e-08])\n",
       "  message: 'Optimization terminated successfully.'\n",
       "     nfev: 48\n",
       "      nit: 9\n",
       "     njev: 12\n",
       "   status: 0\n",
       "  success: True\n",
       "        x: array([ 1.00021507, -0.00470282, -0.48225533])"
      ]
     },
     "execution_count": 5,
     "metadata": {},
     "output_type": "execute_result"
    }
   ],
   "source": [
    "res"
   ]
  },
  {
   "cell_type": "code",
   "execution_count": 6,
   "id": "9e384abf",
   "metadata": {},
   "outputs": [
    {
     "data": {
      "text/plain": [
       "array([ 1.00021507, -0.00470282, -0.48225533])"
      ]
     },
     "execution_count": 6,
     "metadata": {},
     "output_type": "execute_result"
    }
   ],
   "source": [
    "res.x"
   ]
  },
  {
   "cell_type": "code",
   "execution_count": null,
   "id": "6cedfd73",
   "metadata": {},
   "outputs": [],
   "source": []
  }
 ],
 "metadata": {
  "kernelspec": {
   "display_name": "Python 3 (ipykernel)",
   "language": "python",
   "name": "python3"
  },
  "language_info": {
   "codemirror_mode": {
    "name": "ipython",
    "version": 3
   },
   "file_extension": ".py",
   "mimetype": "text/x-python",
   "name": "python",
   "nbconvert_exporter": "python",
   "pygments_lexer": "ipython3",
   "version": "3.9.7"
  }
 },
 "nbformat": 4,
 "nbformat_minor": 5
}
