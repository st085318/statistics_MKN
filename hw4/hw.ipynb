{
 "cells": [
  {
   "cell_type": "code",
   "execution_count": 20,
   "id": "b2bc48cb",
   "metadata": {},
   "outputs": [
    {
     "data": {
      "text/plain": [
       "array([[ 1.        , -0.83770217],\n",
       "       [-0.83770217,  1.        ]])"
      ]
     },
     "execution_count": 20,
     "metadata": {},
     "output_type": "execute_result"
    }
   ],
   "source": [
    "#5\n",
    "import numpy as np\n",
    "import scipy\n",
    "with open(\"Advertising.csv\") as f:\n",
    "    data = f.read().split(\"\\n\")\n",
    "    \n",
    "good_data = []\n",
    "for d in data[1: -1]:\n",
    "    d = d.split(\",\")\n",
    "    good_data.append({\"sales\": float(d[-1]), \"TV\": float(d[1])})\n",
    "\n",
    "n = 20000\n",
    "np.random.seed(0)\n",
    "sample_size = len(good_data)\n",
    "r = range(sample_size)\n",
    "sample = []\n",
    "\n",
    "def fun(x):\n",
    "    global sample\n",
    "    c, b = x\n",
    "    return (np.array([s[\"sales\"] - c - b * s[\"TV\"] for s in sample]) ** 2).sum()\n",
    "\n",
    "samples = []\n",
    "\n",
    "for i in range(n):\n",
    "    sample = np.random.choice(good_data, sample_size)\n",
    "    res = scipy.optimize.minimize(fun, x0 = (0, 0))\n",
    "    samples.append(res.x)\n",
    "\n",
    "np.corrcoef(np.array(samples).T)"
   ]
  },
  {
   "cell_type": "code",
   "execution_count": 21,
   "id": "85ede4b9",
   "metadata": {},
   "outputs": [
    {
     "data": {
      "text/plain": [
       "array([0.48417558, 0.34059634, 0.75672765])"
      ]
     },
     "execution_count": 21,
     "metadata": {},
     "output_type": "execute_result"
    }
   ],
   "source": [
    "#2\n",
    "import numpy as np\n",
    "import scipy\n",
    "\n",
    "with open('casino.txt', 'r') as file:\n",
    "    data = []\n",
    "    for row in file.readlines():\n",
    "        data.append(list(map(int, row.strip().split())))\n",
    "def func_sample(sample):   \n",
    "    wins, losses, go_w, go_l = 0, 0, 0, 0\n",
    "    for game in sample:\n",
    "        wins += sum(game)\n",
    "        losses += len(game) - sum(game)\n",
    "        if game[-1] == 0:\n",
    "            go_l += 1\n",
    "        else:\n",
    "            go_w += 1\n",
    "\n",
    "    def func(x):\n",
    "        p_w, p_go_w, p_go_l = x\n",
    "        res = (np.log(p_w) * wins \n",
    "           + np.log(1 - p_w) * losses \n",
    "           + np.log(p_go_l) * go_l\n",
    "           + np.log(1 - p_go_l) * (losses - go_l)\n",
    "           + np.log(p_go_w) * go_w\n",
    "           + np.log(1 - p_go_w) * (wins - go_w))\n",
    "        return -res\n",
    "    return func\n",
    "\n",
    "bounds = [(1e-5, 1-1e-5), (1e-5, 1-1e-5), (1e-5, 1-1e-5)]\n",
    "\n",
    "res = scipy.optimize.minimize(func_sample(data), (0.5, 0.5, 0.5), bounds=bounds)\n",
    "res.x"
   ]
  },
  {
   "cell_type": "code",
   "execution_count": 22,
   "id": "e352eb2d",
   "metadata": {},
   "outputs": [
    {
     "data": {
      "text/plain": [
       "array([0.37639087, 0.45542335])"
      ]
     },
     "execution_count": 22,
     "metadata": {},
     "output_type": "execute_result"
    }
   ],
   "source": [
    "#3\n",
    "n = 20000\n",
    "np.random.seed(0)\n",
    "sample_size = len(data)\n",
    "choice = range(sample_size)\n",
    "diffs = []\n",
    "bounds = [(1e-5, 1-1e-5), (1e-5, 1-1e-5), (1e-5, 1-1e-5)]\n",
    "for i in range(n):\n",
    "    chooses = np.random.choice(choice, size=sample_size)\n",
    "    sample = []\n",
    "    for c in chooses:\n",
    "        sample.append(data[c])\n",
    "    res = scipy.optimize.minimize(func_sample(sample), (0.5, 0.5, 0.5), bounds=bounds)\n",
    "    diffs.append(res.x[2] - res.x[1])\n",
    "\n",
    "quantile = 0.95\n",
    "np.quantile(diffs, q=[(1 - quantile)/2, quantile + (1 - quantile)/2])"
   ]
  },
  {
   "cell_type": "code",
   "execution_count": 23,
   "id": "8a293336",
   "metadata": {},
   "outputs": [
    {
     "data": {
      "text/plain": [
       "      converged: True\n",
       "           flag: 'converged'\n",
       " function_calls: 8\n",
       "     iterations: 7\n",
       "           root: 0.02666780668672309"
      ]
     },
     "execution_count": 23,
     "metadata": {},
     "output_type": "execute_result"
    }
   ],
   "source": [
    "#4\n",
    "import scipy\n",
    "import math\n",
    "\n",
    "def f(x):\n",
    "    return (2 / math.pi) * (24 * x + 1) * (1 - x + x / 5) ** 2 - 1\n",
    "\n",
    "scipy.optimize.root_scalar(f, bracket=[0, 3], method='brentq')"
   ]
  },
  {
   "cell_type": "code",
   "execution_count": 24,
   "id": "e7371293",
   "metadata": {},
   "outputs": [
    {
     "name": "stdout",
     "output_type": "stream",
     "text": [
      "0.3231645687328099 0.8855673805132537\n"
     ]
    }
   ],
   "source": [
    "#1\n",
    "import scipy\n",
    "import math\n",
    "import numpy as np\n",
    "import scipy.stats as sps\n",
    "\n",
    "data = np.array([(576, 3.39), (635, 3.30), (558, 2.81), (578, 3.03), (666, 3.44),\n",
    "                 (580, 3.07), (555, 3.0), (661, 3.43), (651, 3.36), (605, 3.13),\n",
    "                 (653, 3.12), (575, 2.74), (545, 2.76), (572, 2.88), (594, 2.96)])\n",
    "\n",
    "coeff = np.corrcoef(data.T)[0, 1]\n",
    "alpha = 0.95\n",
    "right = sps.norm().ppf((1 + alpha) / 2)\n",
    "left = sps.norm().ppf((1 - alpha) / 2)\n",
    "\n",
    "def center(n, z, c):\n",
    "    def f(x):\n",
    "        return z * (1 - x ** 2) - math.sqrt(n) * (c - x)\n",
    "    return f\n",
    "\n",
    "r = scipy.optimize.root_scalar(center(len(data), left, coeff), bracket=[0, 1], method='brentq').root\n",
    "l = scipy.optimize.root_scalar(center(len(data), right, coeff), bracket=[0, 1], method='brentq').root\n",
    "print(f\"{l} {r}\")"
   ]
  },
  {
   "cell_type": "code",
   "execution_count": null,
   "id": "8db3daa0",
   "metadata": {},
   "outputs": [],
   "source": []
  }
 ],
 "metadata": {
  "kernelspec": {
   "display_name": "Python 3 (ipykernel)",
   "language": "python",
   "name": "python3"
  },
  "language_info": {
   "codemirror_mode": {
    "name": "ipython",
    "version": 3
   },
   "file_extension": ".py",
   "mimetype": "text/x-python",
   "name": "python",
   "nbconvert_exporter": "python",
   "pygments_lexer": "ipython3",
   "version": "3.9.7"
  }
 },
 "nbformat": 4,
 "nbformat_minor": 5
}
