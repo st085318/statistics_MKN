{
 "cells": [
  {
   "cell_type": "code",
   "execution_count": 98,
   "id": "ed257236",
   "metadata": {},
   "outputs": [],
   "source": [
    "import scipy.stats as sps\n",
    "import pandas as pd\n",
    "import numpy as np\n",
    "import scipy"
   ]
  },
  {
   "cell_type": "code",
   "execution_count": 12,
   "id": "c9c8e8f8",
   "metadata": {},
   "outputs": [
    {
     "data": {
      "text/plain": [
       "1255.8207574958542"
      ]
     },
     "execution_count": 12,
     "metadata": {},
     "output_type": "execute_result"
    }
   ],
   "source": [
    "#1\n",
    "# просто исправляем формулу с лекции\n",
    "c = sps.norm.ppf(0.975) + abs(sps.norm.ppf(0.2))\n",
    "sigma_sq = 10\n",
    "delta = 1\n",
    "ans = (4 * c ) ** 2 * sigma_sq / delta ** 2\n",
    "ans"
   ]
  },
  {
   "cell_type": "code",
   "execution_count": 65,
   "id": "29e79563",
   "metadata": {},
   "outputs": [
    {
     "name": "stderr",
     "output_type": "stream",
     "text": [
      "/tmp/ipykernel_50661/2725290649.py:6: UserWarning: Boolean Series key will be reindexed to match DataFrame index.\n",
      "  c_s = np.array(data[data['group'] == \"control\"][data['smoker'] == \"yes\"]['effect'])\n",
      "/tmp/ipykernel_50661/2725290649.py:7: UserWarning: Boolean Series key will be reindexed to match DataFrame index.\n",
      "  c_not_s = np.array(data[data['group'] == \"control\"][data['smoker'] == \"no\"]['effect'])\n",
      "/tmp/ipykernel_50661/2725290649.py:8: UserWarning: Boolean Series key will be reindexed to match DataFrame index.\n",
      "  t_not_s = np.array(data[data['group'] == \"test\"][data['smoker'] == \"no\"]['effect'])\n",
      "/tmp/ipykernel_50661/2725290649.py:9: UserWarning: Boolean Series key will be reindexed to match DataFrame index.\n",
      "  t_s = np.array(data[data['group'] == \"test\"][data['smoker'] == \"yes\"]['effect'])\n"
     ]
    },
    {
     "data": {
      "text/plain": [
       "(0.19320118986775048, 1.301924249347493)"
      ]
     },
     "execution_count": 65,
     "metadata": {},
     "output_type": "execute_result"
    }
   ],
   "source": [
    "#2\n",
    "data = pd.read_csv('test.csv')\n",
    "n = len(np_data)\n",
    "\n",
    "c_s = np.array(data[data['group'] == \"control\"][data['smoker'] == \"yes\"]['effect'])\n",
    "c_not_s = np.array(data[data['group'] == \"control\"][data['smoker'] == \"no\"]['effect'])\n",
    "t_not_s = np.array(data[data['group'] == \"test\"][data['smoker'] == \"no\"]['effect'])\n",
    "t_s = np.array(data[data['group'] == \"test\"][data['smoker'] == \"yes\"]['effect'])\n",
    "delta = (t_s.mean() - c_s.mean()) - (t_not_s.mean() - c_not_s.mean())\n",
    "sigma = (4 ** 2 * 10 / n) ** 0.5\n",
    "sps.norm.ppf(0.025, loc=delta, scale=sigma), sps.norm.ppf(0.975, loc=delta, scale=sigma)"
   ]
  },
  {
   "cell_type": "code",
   "execution_count": 79,
   "id": "d80357f8",
   "metadata": {},
   "outputs": [
    {
     "data": {
      "text/plain": [
       "0.36595976450243883"
      ]
     },
     "execution_count": 79,
     "metadata": {},
     "output_type": "execute_result"
    }
   ],
   "source": [
    "#4\n",
    "#ddof = 0\n",
    "data = pd.read_csv('view_proxy_randomization.csv')\n",
    "#data\n",
    "cats = np.array(data['category'])\n",
    "q_cats = []\n",
    "expected = []\n",
    "for i in range(11):\n",
    "    q_cats.append(len(data['category'][data['category'] == i]))\n",
    "    expected.append(1/11)\n",
    "sps.chisquare(np.array(q_cats), len(data) * np.array(expected), ddof = 0).pvalue\n"
   ]
  },
  {
   "cell_type": "code",
   "execution_count": 85,
   "id": "d7b32945",
   "metadata": {},
   "outputs": [
    {
     "data": {
      "text/plain": [
       "4.199979869026695"
      ]
     },
     "execution_count": 85,
     "metadata": {},
     "output_type": "execute_result"
    }
   ],
   "source": [
    "#5\n",
    "data = pd.read_csv('view_proxy_randomization.csv')\n",
    "cats = data['category']\n",
    "sps.ttest_ind(data[cats == 5]['VIEW'], data[cats == 10]['VIEW'], equal_var=False).statistic"
   ]
  },
  {
   "cell_type": "code",
   "execution_count": 109,
   "id": "b71153a3",
   "metadata": {},
   "outputs": [
    {
     "name": "stderr",
     "output_type": "stream",
     "text": [
      "/home/putiata/.local/lib/python3.9/site-packages/scipy/optimize/_optimize.py:284: RuntimeWarning: Values in x were outside bounds during a minimize step, clipping to bounds\n",
      "  warnings.warn(\"Values in x were outside bounds during a \"\n"
     ]
    },
    {
     "data": {
      "text/plain": [
       "0.2844647109190869"
      ]
     },
     "execution_count": 109,
     "metadata": {},
     "output_type": "execute_result"
    }
   ],
   "source": [
    "#3\n",
    "from itertools import product\n",
    "\n",
    "table = {(0, 0, 0): 0,\n",
    " (0, 0, 1): 0,\n",
    " (0, 0, 2): 0,\n",
    " (0, 0, 3): 0,\n",
    " (0, 0, 5): 0,\n",
    " (0, 0, 6): 2,\n",
    " (0, 0, 7): 0,\n",
    " (0, 1, 1): 0,\n",
    " (0, 1, 2): 0,\n",
    " (0, 1, 3): 0,\n",
    " (0, 1, 5): 0,\n",
    " (0, 1, 6): 2,\n",
    " (0, 1, 7): 0,\n",
    " (0, 2, 2): 0,\n",
    " (0, 2, 3): 0,\n",
    " (0, 2, 5): 0,\n",
    " (0, 2, 6): 2,\n",
    " (0, 2, 7): 0,\n",
    " (0, 3, 3): 0,\n",
    " (0, 3, 5): 0,\n",
    " (0, 3, 6): 2,\n",
    " (0, 3, 7): 0,\n",
    " (0, 5, 5): 0,\n",
    " (0, 5, 6): 10,\n",
    " (0, 5, 7): 0,\n",
    " (0, 6, 6): 5,\n",
    " (0, 6, 7): 2,\n",
    " (0, 7, 7): 0,\n",
    " (1, 1, 1): 10,\n",
    " (1, 1, 2): 5,\n",
    " (1, 1, 3): 5,\n",
    " (1, 1, 5): 20,\n",
    " (1, 1, 6): 2,\n",
    " (1, 1, 7): 0,\n",
    " (1, 2, 2): 5,\n",
    " (1, 2, 3): 5,\n",
    " (1, 2, 5): 10,\n",
    " (1, 2, 6): 2,\n",
    " (1, 2, 7): 0,\n",
    " (1, 3, 3): 5,\n",
    " (1, 3, 5): 10,\n",
    " (1, 3, 6): 2,\n",
    " (1, 3, 7): 0,\n",
    " (1, 5, 5): 40,\n",
    " (1, 5, 6): 10,\n",
    " (1, 5, 7): 0,\n",
    " (1, 6, 6): 5,\n",
    " (1, 6, 7): 2,\n",
    " (1, 7, 7): 0,\n",
    " (2, 2, 2): 25,\n",
    " (2, 2, 3): 5,\n",
    " (2, 2, 5): 50,\n",
    " (2, 2, 6): 2,\n",
    " (2, 2, 7): 0,\n",
    " (2, 3, 3): 5,\n",
    " (2, 3, 5): 10,\n",
    " (2, 3, 6): 2,\n",
    " (2, 3, 7): 0,\n",
    " (2, 5, 5): 100,\n",
    " (2, 5, 6): 10,\n",
    " (2, 5, 7): 0,\n",
    " (2, 6, 6): 5,\n",
    " (2, 6, 7): 2,\n",
    " (2, 7, 7): 0,\n",
    " (3, 3, 3): 40,\n",
    " (3, 3, 5): 80,\n",
    " (3, 3, 6): 2,\n",
    " (3, 3, 7): 0,\n",
    " (3, 5, 5): 160,\n",
    " (3, 5, 6): 10,\n",
    " (3, 5, 7): 0,\n",
    " (3, 6, 6): 5,\n",
    " (3, 6, 7): 2,\n",
    " (3, 7, 7): 0,\n",
    " (5, 5, 5): 1000,\n",
    " (5, 5, 6): 40,\n",
    " (5, 5, 7): 320,\n",
    " (5, 6, 6): 20,\n",
    " (5, 6, 7): 10,\n",
    " (5, 7, 7): 160,\n",
    " (6, 6, 6): 10,\n",
    " (6, 6, 7): 5,\n",
    " (6, 7, 7): 2,\n",
    " (7, 7, 7): 80}\n",
    "\n",
    "def make_mean(p):\n",
    "    M = np.array([table[tuple(sorted(x))] for x in product([0, 1, 2, 3, 5, 6, 7], repeat=3)]).reshape((7, 7, 7))\n",
    "    P = p[:, None, None] * p[None, :, None] * p[None, None, :]\n",
    "    return (M * P).sum()\n",
    "\n",
    "def lh(p, counts=np.array([221,  96,  44,  23,   9,   4,  17])):\n",
    "    return -(np.log(p) * counts).sum()\n",
    "\n",
    "with open('slot_138.txt', 'r') as file:\n",
    "    data = []\n",
    "    for row in file.readlines():\n",
    "        els = list(map(int, row.strip().split()))\n",
    "        data.append(els[0])\n",
    "        data.append(els[1])\n",
    "        data.append(els[2])\n",
    "\n",
    "data = np.array(data)\n",
    "unique, counts = np.unique(data, return_counts=True)\n",
    "\n",
    "sum_ = scipy.optimize.LinearConstraint(np.ones(7), 1, 1)\n",
    "mean_ = scipy.optimize.NonlinearConstraint(make_mean, 0.92, 0.92)\n",
    "\n",
    "bounds = [(0.00000001, 0.999999999999) for i in range(7)]\n",
    "x0 = np.array([1/7] * 7)\n",
    "\n",
    "res = scipy.optimize.minimize(lh, x0=x0, bounds=bounds, constraints=[sum_, mean_])\n",
    "\n",
    "sps.chisquare(counts, counts.sum() * res.x, ddof=5).pvalue\n"
   ]
  }
 ],
 "metadata": {
  "kernelspec": {
   "display_name": "Python 3 (ipykernel)",
   "language": "python",
   "name": "python3"
  },
  "language_info": {
   "codemirror_mode": {
    "name": "ipython",
    "version": 3
   },
   "file_extension": ".py",
   "mimetype": "text/x-python",
   "name": "python",
   "nbconvert_exporter": "python",
   "pygments_lexer": "ipython3",
   "version": "3.9.7"
  }
 },
 "nbformat": 4,
 "nbformat_minor": 5
}
