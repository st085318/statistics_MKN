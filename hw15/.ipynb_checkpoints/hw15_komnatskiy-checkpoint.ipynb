{
 "cells": [
  {
   "cell_type": "code",
   "execution_count": 37,
   "id": "e98ebf96",
   "metadata": {},
   "outputs": [],
   "source": [
    "import scipy.stats as sps\n",
    "import pandas as pd\n",
    "import numpy as np\n",
    "import scipy"
   ]
  },
  {
   "cell_type": "code",
   "execution_count": 74,
   "id": "869c34d8",
   "metadata": {},
   "outputs": [
    {
     "name": "stderr",
     "output_type": "stream",
     "text": [
      "/tmp/ipykernel_3188/1898448498.py:4: UserWarning: Boolean Series key will be reindexed to match DataFrame index.\n",
      "  pos_views = data[data[\"VIEW\"] > 0][data[\"category\"] == 5]['VIEW']\n"
     ]
    },
    {
     "data": {
      "text/plain": [
       "1.8261998497416239"
      ]
     },
     "execution_count": 74,
     "metadata": {},
     "output_type": "execute_result"
    }
   ],
   "source": [
    "#1\n",
    "data = pd.read_csv('view_proxy_randomization .csv')\n",
    "\n",
    "pos_views = data[data[\"VIEW\"] > 0][data[\"category\"] == 5]['VIEW']\n",
    "mu = np.log(pos_views).mean()\n",
    "sigma_sq = ((mu - np.log(pos_views)) ** 2).mean()\n",
    "sigma_sq**0.5"
   ]
  },
  {
   "cell_type": "code",
   "execution_count": 69,
   "id": "89dc75e9",
   "metadata": {},
   "outputs": [
    {
     "name": "stdout",
     "output_type": "stream",
     "text": [
      "0.10797199502328357 1.0198753076025882\n"
     ]
    }
   ],
   "source": [
    "#5\n",
    "from scipy import integrate\n",
    "import numpy as np\n",
    "def func(q):\n",
    "    mu, sigma = q\n",
    "    data = np.array([1, 4, 0, 0, 1, 1, 3, 1, 6, 1])\n",
    "    def prob_i(i):\n",
    "        dist = sps.lognorm(s=sigma, scale=np.exp(mu))\n",
    "        if i == 0:\n",
    "            prob = dist.cdf(0.5)\n",
    "        else:\n",
    "            prob = dist.cdf(i + 0.5) - dist.cdf(i - 0.5)\n",
    "        return prob\n",
    "    probs = {}\n",
    "    for i in set(data):\n",
    "        probs[i] = prob_i(i)\n",
    "    sum_ = 0\n",
    "    for i in data:\n",
    "        sum_ += np.log(probs[i])\n",
    "    return -sum_\n",
    "\n",
    "res = scipy.optimize.minimize(func, [0.5, 1], bounds=[[0.0, 100], [0.0000001, 100]]).x\n",
    "print(f\"{res[0]} {res[1]}\")"
   ]
  },
  {
   "cell_type": "code",
   "execution_count": null,
   "id": "257eafe3",
   "metadata": {},
   "outputs": [],
   "source": []
  }
 ],
 "metadata": {
  "kernelspec": {
   "display_name": "Python 3 (ipykernel)",
   "language": "python",
   "name": "python3"
  },
  "language_info": {
   "codemirror_mode": {
    "name": "ipython",
    "version": 3
   },
   "file_extension": ".py",
   "mimetype": "text/x-python",
   "name": "python",
   "nbconvert_exporter": "python",
   "pygments_lexer": "ipython3",
   "version": "3.9.7"
  }
 },
 "nbformat": 4,
 "nbformat_minor": 5
}
