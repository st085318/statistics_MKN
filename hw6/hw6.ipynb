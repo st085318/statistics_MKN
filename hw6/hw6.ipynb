{
 "cells": [
  {
   "cell_type": "code",
   "execution_count": 35,
   "id": "fed51287",
   "metadata": {},
   "outputs": [
    {
     "data": {
      "text/plain": [
       "0.0249"
      ]
     },
     "execution_count": 35,
     "metadata": {},
     "output_type": "execute_result"
    }
   ],
   "source": [
    "#2\n",
    "import scipy.stats as sps\n",
    "import numpy as np\n",
    "\n",
    "def t(s):\n",
    "    n = len(s)\n",
    "    return np.sqrt(n)*(s.mean() - 1)/s.std(ddof=1)\n",
    "\n",
    "def mk(samples):\n",
    "    p = []\n",
    "    c_a = sps.norm.ppf(0.95)\n",
    "    for sample in samples:\n",
    "        n = len(sample)\n",
    "        pr = t(sample) > c_a\n",
    "        p.append(int(pr))\n",
    "    p = np.array(p)\n",
    "    \n",
    "    return p.mean()\n",
    "\n",
    "samples = sps.expon.rvs(size = (10000, 30), random_state = 0)\n",
    "mk(samples)"
   ]
  },
  {
   "cell_type": "code",
   "execution_count": null,
   "id": "ebf1717d",
   "metadata": {},
   "outputs": [],
   "source": [
    "#1\n",
    "# код, читающий выборку, подаваемую на вход\n",
    "import numpy as np\n",
    "import scipy.stats as sps\n",
    "\n",
    "sample = np.array(list(map(float, input().strip().split())))\n",
    "def t(s):\n",
    "    n = len(s)\n",
    "    return np.sqrt(n) * s.mean() / s.std(ddof=1)\n",
    "\n",
    "n = len(sample)\n",
    "ans = 2 * sps.t(n - 1).sf(abs(t(sample)))\n",
    "print(ans)\n"
   ]
  },
  {
   "cell_type": "code",
   "execution_count": 39,
   "id": "0650cfb8",
   "metadata": {},
   "outputs": [
    {
     "data": {
      "text/plain": [
       "1.4133597507366644"
      ]
     },
     "execution_count": 39,
     "metadata": {},
     "output_type": "execute_result"
    }
   ],
   "source": [
    "#3\n",
    "import scipy.stats as sps\n",
    "import numpy as np\n",
    "\n",
    "def t(s):\n",
    "    n = len(s)\n",
    "    return np.sqrt(n)*(s.mean() - 1)/s.std(ddof=1)\n",
    "\n",
    "def mk(samples):\n",
    "    p = []\n",
    "    c_a = sps.norm.ppf(0.95)\n",
    "    for sample in samples:\n",
    "        n = len(sample)\n",
    "        pr = t(sample)\n",
    "        p.append(pr)\n",
    "    p = np.array(p)\n",
    "    \n",
    "    return np.quantile(p, 0.95)\n",
    "\n",
    "samples = sps.expon.rvs(size = (100000, 30), random_state = 0)\n",
    "mk(samples)"
   ]
  },
  {
   "cell_type": "code",
   "execution_count": 52,
   "id": "387a8381",
   "metadata": {},
   "outputs": [
    {
     "data": {
      "text/plain": [
       "0.0"
      ]
     },
     "execution_count": 52,
     "metadata": {},
     "output_type": "execute_result"
    }
   ],
   "source": [
    "#4\n",
    "\n",
    "import scipy.stats as sps\n",
    "import numpy as np\n",
    "import scipy\n",
    "\n",
    "c_a = 0.75672765 - 0.34059634\n",
    "\n",
    "def make_samples():\n",
    "    sample_sizes = sps.geom.rvs(0.55, size = 1000)\n",
    "    samples = []\n",
    "    for size in sample_sizes:\n",
    "        samples.append(sps.bernoulli.rvs(0.5, size=size))\n",
    "    return samples\n",
    "    \n",
    "def func_sample(sample):   \n",
    "    wins, losses, go_w, go_l = 0, 0, 0, 0\n",
    "    for game in sample:\n",
    "        wins += sum(game)\n",
    "        losses += len(game) - sum(game)\n",
    "        if game[-1] == 0:\n",
    "            go_l += 1\n",
    "        else:\n",
    "            go_w += 1\n",
    "\n",
    "    def func(x):\n",
    "        p_w, p_go_w, p_go_l = x\n",
    "        res = (np.log(p_w) * wins \n",
    "           + np.log(1 - p_w) * losses \n",
    "           + np.log(p_go_l) * go_l\n",
    "           + np.log(1 - p_go_l) * (losses - go_l)\n",
    "           + np.log(p_go_w) * go_w\n",
    "           + np.log(1 - p_go_w) * (wins - go_w))\n",
    "        return -res\n",
    "    return func\n",
    "\n",
    "n = 300\n",
    "\n",
    "s_samples = [make_samples() for i in range(n)]\n",
    "\n",
    "bounds = [(1e-5, 1-1e-5), (1e-5, 1-1e-5), (1e-5, 1-1e-5)]\n",
    "\n",
    "mk = []\n",
    "for s in s_samples:\n",
    "    res = scipy.optimize.minimize(func_sample(s), (0.5, 0.5, 0.5), bounds=bounds)\n",
    "    mk.append(int(res.x[2] - res.x[1] > c_a))\n",
    "\n",
    "np.array(mk).mean()"
   ]
  },
  {
   "cell_type": "code",
   "execution_count": 121,
   "id": "62f2c21f",
   "metadata": {},
   "outputs": [
    {
     "data": {
      "text/plain": [
       "(0.8922, 0.8585)"
      ]
     },
     "execution_count": 121,
     "metadata": {},
     "output_type": "execute_result"
    }
   ],
   "source": [
    "#5\n",
    "import scipy.stats as sps\n",
    "\n",
    "def t1(x, y):\n",
    "    return np.corrcoef(np.array([x, y]))[0][1]\n",
    "\n",
    "def t2(x, y):\n",
    "    return t1(sps.rankdata(x), sps.rankdata(y))\n",
    "\n",
    "def samples(rho, n):\n",
    "    x, y = sps.multivariate_normal(cov=[[1, rho], [rho, 1]]).rvs(size=(n, 30), random_state=0).T\n",
    "    return x, y\n",
    "n = 10000\n",
    "\n",
    "x_0, y_0 = samples(0, n)\n",
    "\n",
    "c_a = np.quantile(np.array([t1(x, y) for x, y in zip(x_0.T, y_0.T)]), 0.95)\n",
    "\n",
    "x_05, y_05 = samples(0.5, n)\n",
    "prob1 = [int(t1(x, y) > c_a) for x, y in zip(x_05.T, y_05.T)]\n",
    "\n",
    "\n",
    "c_a = np.quantile(np.array([t2(x, y) for x, y in zip(x_0.T, y_0.T)]), 0.95)\n",
    "prob2 = [int(t2(x, y) > c_a) for x, y in zip(x_05.T, y_05.T)]\n",
    "\n",
    "np.array(prob1).mean(), np.array(prob2).mean()"
   ]
  }
 ],
 "metadata": {
  "kernelspec": {
   "display_name": "Python 3 (ipykernel)",
   "language": "python",
   "name": "python3"
  },
  "language_info": {
   "codemirror_mode": {
    "name": "ipython",
    "version": 3
   },
   "file_extension": ".py",
   "mimetype": "text/x-python",
   "name": "python",
   "nbconvert_exporter": "python",
   "pygments_lexer": "ipython3",
   "version": "3.9.7"
  }
 },
 "nbformat": 4,
 "nbformat_minor": 5
}
