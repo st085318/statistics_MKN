{
 "cells": [
  {
   "cell_type": "code",
   "execution_count": 108,
   "id": "cf511ae6",
   "metadata": {},
   "outputs": [],
   "source": [
    "import scipy.stats as sps\n",
    "import scipy\n",
    "import numpy as np"
   ]
  },
  {
   "cell_type": "code",
   "execution_count": 111,
   "id": "0f2bbcb3",
   "metadata": {},
   "outputs": [
    {
     "data": {
      "text/plain": [
       "(0.0006894678644963628, 0.053471669650999185)"
      ]
     },
     "execution_count": 111,
     "metadata": {},
     "output_type": "execute_result"
    }
   ],
   "source": [
    "#4\n",
    "with open('tokyo_farmers.txt', 'r') as file:\n",
    "    data = []\n",
    "    for line in file:\n",
    "        data.append(list(map(int, line.split())))\n",
    "\n",
    "def get_data(n, vals, counts):\n",
    "    bins = np.array(vals[:-n])\n",
    "    counts_ = np.append(np.array(counts[:-n]), counts[-n:].sum())\n",
    "    return bins, counts_\n",
    "\n",
    "def expectaion(bins, mu):\n",
    "    p = np.zeros(len(bins) + 1)\n",
    "    for i, b in enumerate(bins):\n",
    "        p[i] = ss.poisson.pmf(b, mu=mu).sum()\n",
    "    p[-1] = 1 - p.sum()\n",
    "    return p\n",
    "\n",
    "def f(freqs, bins):\n",
    "    def chi2(mu):\n",
    "        p = expectaion(bins, mu)\n",
    "        return np.sum((freqs - p) ** 2 / p)\n",
    "    return chi2\n",
    "\n",
    "def get_mu(bins, counts):\n",
    "    bounds = [(0.1, 2)]\n",
    "    mu = scipy.optimize.minimize(f(counts, bins), 1, bounds=bounds)\n",
    "    return mu.x[0]\n",
    "\n",
    "def get_pval(n, vals, counts):\n",
    "    b, c = get_data(n, vals, counts)\n",
    "    mu = get_mu(b, c)\n",
    "    return sps.chisquare(c, c.sum() * expectaion(b, mu), ddof=1).pvalue\n",
    "\n",
    "vals, counts = np.unique(data, return_counts=True)\n",
    "\n",
    "get_pval(3, vals, counts), get_pval(4, vals, counts)"
   ]
  },
  {
   "cell_type": "code",
   "execution_count": null,
   "id": "9dfd1dd6",
   "metadata": {},
   "outputs": [],
   "source": [
    "#5\n",
    "n = 13\n",
    "m = 37\n",
    "sample_size = 100000\n",
    "samples = sps.uniform().rvs(size=(sample_size, n + m), random_state = 0)\n",
    "mw = np.array([sps.mannwhitneyu(s[:n], s[n:]).statistic for s in samples])\n",
    "np.quantile(mw, 0.95)"
   ]
  },
  {
   "cell_type": "code",
   "execution_count": 112,
   "id": "b8a58ab3",
   "metadata": {},
   "outputs": [
    {
     "data": {
      "text/plain": [
       "(0.9631075721498039, 0.9267223232615678)"
      ]
     },
     "execution_count": 112,
     "metadata": {},
     "output_type": "execute_result"
    }
   ],
   "source": [
    "#3\n",
    "def expectaion(bins, mu):\n",
    "    p = np.zeros(len(bins) + 1)\n",
    "    for i, b in enumerate(bins):\n",
    "        p[i] = ss.poisson.pmf(b, mu=mu).sum()\n",
    "    p[-1] = 1 - p.sum()\n",
    "    return p\n",
    "\n",
    "np.random.seed(1337)\n",
    "a = np.zeros(100, dtype=int)\n",
    "for _ in range(500):\n",
    "    a[np.random.randint(100)] += 1\n",
    "\n",
    "vals, counts = np.unique(a, return_counts=True)\n",
    "\n",
    "freqs = np.array([13, 14, 18, 18, 15, 7, 6, 9])\n",
    "bins = [[0, 1, 2], [3], [4], [5], [6], [7], [8]]\n",
    "l_star = 5.028603917186539\n",
    "\n",
    "ss.chisquare(freqs, freqs.sum() * expectaion(bins, 5)).pvalue, ss.chisquare(freqs, freqs.sum() * expectaion(bins, l_star), ddof = 1).pvalue"
   ]
  },
  {
   "cell_type": "code",
   "execution_count": 113,
   "id": "54b05b6e",
   "metadata": {},
   "outputs": [
    {
     "name": "stderr",
     "output_type": "stream",
     "text": [
      "/home/putiata/.local/lib/python3.9/site-packages/pandas/core/internals/blocks.py:402: RuntimeWarning: divide by zero encountered in log\n",
      "  result = func(self.values, **kwargs)\n"
     ]
    },
    {
     "data": {
      "text/plain": [
       "'[0.10104016523646034 0.20323299481126714 0.011685786467461462 0.17100060739914316 -0.02658609619605177 0.03883735055889505 -0.2494017575108904 -0.04575347686402578]'"
      ]
     },
     "execution_count": 113,
     "metadata": {},
     "output_type": "execute_result"
    }
   ],
   "source": [
    "#1\n",
    "def fracs(a, b):\n",
    "    sa = a.std(ddof=1)\n",
    "    sb = b.std(ddof=1)\n",
    "    a_f = (sa ** 2) / len(a)\n",
    "    b_f = (sb ** 2) / len(b)\n",
    "    return a_f, b_f\n",
    "\n",
    "def K(a, b):\n",
    "    a_f, b_f = fracs(a, b)\n",
    "    return ( (a_f + b_f) ** 2 ) / ( ( a_f ** 2 ) / (len(a)  - 1) + ( b_f ** 2 ) / ( len(b) - 1 )) \n",
    "    \n",
    "data = pd.read_csv('ocdrug.csv', index_col='Subject')\n",
    "\n",
    "G = {}\n",
    "for i in [1, 2]:\n",
    "    for j in [1, 2]:\n",
    "        G[(i, j)] = np.log(data[(data['Sequence'] == i) & (data['Period'] == j)])\n",
    "edges = []\n",
    "alpha = 0.05\n",
    "for a in ['EE', 'NET']:\n",
    "    for b in ['AUC', 'CMax']:\n",
    "        c = f'{a} {b}'\n",
    "        x, y = G[1, 1][c] / 2 - G[1, 2][c] / 2, G[2, 1][c] / 2 - G[2, 2][c] / 2\n",
    "        l, r = sps.t(K(x, y)).ppf(alpha), sps.t(K(x, y)).ppf(1 - alpha)\n",
    "        def real_edge(e, sam_a, sam_b):\n",
    "            a_f, b_f = fracs(sam_a, sam_b)\n",
    "            return (sam_b.mean() - sam_a.mean()) - ( (a_f + b_f) ** 0.5 ) * e\n",
    "        l, r = real_edge(l, x, y), real_edge(r, x, y)\n",
    "        edges.append(np.float64(-l))\n",
    "        edges.append(np.float64(-r))\n",
    "str(edges).replace(\",\", \"\")"
   ]
  },
  {
   "cell_type": "code",
   "execution_count": null,
   "id": "fac8a749",
   "metadata": {},
   "outputs": [],
   "source": []
  }
 ],
 "metadata": {
  "kernelspec": {
   "display_name": "Python 3 (ipykernel)",
   "language": "python",
   "name": "python3"
  },
  "language_info": {
   "codemirror_mode": {
    "name": "ipython",
    "version": 3
   },
   "file_extension": ".py",
   "mimetype": "text/x-python",
   "name": "python",
   "nbconvert_exporter": "python",
   "pygments_lexer": "ipython3",
   "version": "3.9.7"
  }
 },
 "nbformat": 4,
 "nbformat_minor": 5
}
