{
 "cells": [
  {
   "cell_type": "code",
   "execution_count": 3,
   "id": "9246b436",
   "metadata": {},
   "outputs": [],
   "source": [
    "import numpy as np\n",
    "import scipy.stats as ss"
   ]
  },
  {
   "cell_type": "code",
   "execution_count": 14,
   "id": "9d10847a",
   "metadata": {},
   "outputs": [
    {
     "data": {
      "text/plain": [
       "array([23.62419331, 28.84616809])"
      ]
     },
     "execution_count": 14,
     "metadata": {},
     "output_type": "execute_result"
    }
   ],
   "source": [
    "#1\n",
    "data = [28, 26, 33, 24, 34, -44, 27, 16, 40, -2, 29,\n",
    "        22, 24, 21, 25, 30, 23, 29, 31, 19, 24, 20,\n",
    "        36, 32, 36, 28, 25, 21, 28, 29, 37, 25, 28,\n",
    "        26, 30, 32, 36, 26, 30, 22, 36, 23, 27, 27,\n",
    "        28, 27, 31, 27, 26, 33, 26, 32, 32, 24, 39,\n",
    "        28, 24, 25, 32, 25, 29, 27, 28, 29, 16, 23]\n",
    "\n",
    "np.random.seed(42)\n",
    "\n",
    "data = np.array(data)\n",
    "\n",
    "sigma_sample = data.std(ddof=1)\n",
    "mean_sample = data.mean()\n",
    "\n",
    "n = len(data)\n",
    "sample_size = 10000\n",
    "\n",
    "mus = []\n",
    "\n",
    "for i in range(sample_size):\n",
    "    sigma_sq = (n - 1) * (sigma_sample ** 2) / ss.chi2(n - 1).rvs()\n",
    "    mu = ss.norm(mean_sample, (sigma_sq / n) ** 0.5).rvs()\n",
    "    mus.append(mu)\n",
    "\n",
    "a = 0.95\n",
    "\n",
    "mus = np.array(mus)\n",
    "\n",
    "#print(mus)\n",
    "np.quantile(mus, [(1-a)/2, (1+a)/2])"
   ]
  },
  {
   "cell_type": "code",
   "execution_count": 16,
   "id": "3e8ced60",
   "metadata": {},
   "outputs": [
    {
     "data": {
      "text/plain": [
       "array([-12.11960685,   9.80624966])"
      ]
     },
     "execution_count": 16,
     "metadata": {},
     "output_type": "execute_result"
    }
   ],
   "source": [
    "#2\n",
    "\n",
    "data = [28, 26, 33, 24, 34, -44, 27, 16, 40, -2, 29,\n",
    "        22, 24, 21, 25, 30, 23, 29, 31, 19, 24, 20,\n",
    "        36, 32, 36, 28, 25, 21, 28, 29, 37, 25, 28,\n",
    "        26, 30, 32, 36, 26, 30, 22, 36, 23, 27, 27,\n",
    "        28, 27, 31, 27, 26, 33, 26, 32, 32, 24, 39,\n",
    "        28, 24, 25, 32, 25, 29, 27, 28, 29, 16, 23]\n",
    "\n",
    "np.random.seed(420)\n",
    "\n",
    "data = np.array(data)\n",
    "\n",
    "sigma_sample = data.std(ddof=1)\n",
    "mean_sample = data.mean()\n",
    "\n",
    "n = len(data)\n",
    "sample_size = 10000\n",
    "\n",
    "mins = []\n",
    "\n",
    "for i in range(sample_size):\n",
    "    sigma_sq = (n - 1) * (sigma_sample ** 2) / ss.chi2(n - 1).rvs()\n",
    "    mu = ss.norm(mean_sample, (sigma_sq / n) ** 0.5).rvs()\n",
    "    min_ = min(ss.norm(mu, sigma_sq ** 0.5).rvs(size = n))\n",
    "    mins.append(min_)\n",
    "    \n",
    "a = 0.95\n",
    "\n",
    "mins = np.array(mins)\n",
    "\n",
    "#print(mus)\n",
    "np.quantile(mins, [(1-a)/2, (1+a)/2])"
   ]
  },
  {
   "cell_type": "code",
   "execution_count": 21,
   "id": "03f34637",
   "metadata": {},
   "outputs": [
    {
     "data": {
      "text/plain": [
       "0.0904"
      ]
     },
     "execution_count": 21,
     "metadata": {},
     "output_type": "execute_result"
    }
   ],
   "source": [
    "#3\n",
    "\n",
    "import numpy as np\n",
    "import scipy.stats as ss\n",
    "\n",
    "p1, p2 = 0.3, 0.7                                               # p(i)\n",
    "mix = ss.rv_discrete(name='mix', values=([1, 2], [p1, p2]))\n",
    "X1 = ss.multivariate_normal([0, 0], [[1, 0.5], [0.5, 1]])       # X|y=1\n",
    "X2 = ss.multivariate_normal([2.5, 0], [[1, -0.5], [-0.5, 1]])   # X|y=2\n",
    "X = [X1, X2]\n",
    "\n",
    "def make_data(n):\n",
    "    y = mix.rvs(size=n)\n",
    "    x = np.zeros((n, 2))\n",
    "    x[y == 1] = X1.rvs(size=n)[y == 1]\n",
    "    x[y == 2] = X2.rvs(size=n)[y == 2]\n",
    "    return x, y\n",
    "\n",
    "def lam(i, j):\n",
    "    return int(i != j)\n",
    "\n",
    "np.random.seed(42)\n",
    "\n",
    "n = 10000\n",
    "x, y = make_data(n)\n",
    "\n",
    "risks = [] \n",
    "\n",
    "for i, el in enumerate(x):\n",
    "    risk_1 = X[0].pdf(el) * mix.pmf(1)\n",
    "    risk_2 = X[1].pdf(el) * mix.pmf(2)\n",
    "    \n",
    "    if risk_1 > risk_2:\n",
    "        risks.append(lam(y[i], 1))\n",
    "    else:\n",
    "        risks.append(lam(y[i], 2))\n",
    "        \n",
    "risks = np.array(risks)\n",
    "risks.mean()"
   ]
  },
  {
   "cell_type": "code",
   "execution_count": 34,
   "id": "447912bd",
   "metadata": {},
   "outputs": [
    {
     "data": {
      "text/plain": [
       "(0.681194076245668, 0.31880592375433203)"
      ]
     },
     "execution_count": 34,
     "metadata": {},
     "output_type": "execute_result"
    }
   ],
   "source": [
    "#5\n",
    "def get_deg(mu, phi_sq = 1/50, nu = -1/2, sigma_sq=1/4):\n",
    "    a = ((mu * phi_sq + nu * sigma_sq) / (phi_sq + sigma_sq))**2\n",
    "    b = ( phi_sq * (mu ** 2) + sigma_sq * (nu ** 2) ) / (phi_sq + sigma_sq)\n",
    "    c = 2 * (phi_sq * sigma_sq) / (phi_sq + sigma_sq)\n",
    "    return (a - b) / c\n",
    "\n",
    "a = get_deg(mu=1)\n",
    "a, 27 *(21/54)**2 - 33/4\n",
    "b = get_deg(mu=-1)\n",
    "k = 0.95 * np.exp(a) / (0.05 * np.exp(b))\n",
    "1/(k+1), k/(k+1)"
   ]
  },
  {
   "cell_type": "markdown",
   "id": "d2b47323",
   "metadata": {},
   "source": [
    "**5**\n",
    "\n",
    "из условия:\n",
    "\n",
    "$\\mu_1 = 1$\n",
    "\n",
    "$\\mu_2 = -1$\n",
    "\n",
    "$\\nu = -\\frac{1}{2}$\n",
    "\n",
    "$\\phi^2 = \\frac{1}{50}$\n",
    "\n",
    "$\\sigma^2 = \\frac{1}{4}$\n",
    "\n",
    "$$p(\\theta | \\bar x) \\propto p(\\theta) * p(\\bar x | \\theta)$$\n",
    "\n",
    "$$p(\\bar x | \\theta) = \\frac{1}{\\sqrt{2 \\pi}\\phi} \\exp{(-\\frac{(\\theta - \\nu)^2)}{2 \\phi^2}}$$\n",
    "\n",
    "$$p(\\theta) = 0.95 \\frac{1}{\\sqrt{2 \\pi} \\sigma} \\exp{(-\\frac{(\\theta - \\mu_1)^2}{2 \\sigma^2})} + 0.05 \\frac{1}{\\sqrt{2 \\pi} \\sigma} \\exp{(-\\frac{(\\theta - \\mu_2)^2}{2 \\sigma^2})}$$\n",
    "\n",
    "$$ 0.95 \\frac{1}{\\sqrt{2 \\pi} \\sigma} \\exp{(-\\frac{(\\theta - \\mu_1)^2}{2 \\sigma^2})} \\cdot  \\frac{1}{\\sqrt{2 \\pi}\\phi} \\exp{(-\\frac{(\\theta - \\nu)^2)}{2 \\phi^2}} \\Rightarrow$$\n",
    "\n",
    "$$\\text{рассмотрим подробнее степень у экспоненты, после перемножения получим:} $$\n",
    "\n",
    "$$\\text{($\\mu = \\mu_1$ в данном случае, но формула верна в общем случае(и в частности при $\\mu=\\mu_2$))}$$\n",
    "\n",
    "$$deg = -\\frac{(\\theta - \\frac{\\mu \\phi^2 + \\nu \\sigma^2}{\\phi^2 + \\sigma^2})^2 - (\\frac{\\mu \\phi^2 + \\nu \\sigma^2}{\\phi^2 + \\sigma^2})^2 + \\frac{\\phi^2 \\mu^2 + \\sigma^2 \\nu^2}{\\phi^2 + \\sigma^2}}{2\\frac{\\phi^2\\sigma^2}{\\phi^2 + \\sigma^2}}$$\n",
    "\n",
    "$$\\text{Тогда в константу вынесутся при $\\mu=\\mu_1$ и $\\mu=\\mu_2$}$$\n",
    "\n",
    "$$\\exp(\\frac{(\\frac{\\mu \\phi^2 + \\nu \\sigma^2}{\\phi^2 + \\sigma^2})^2 - \\frac{\\phi^2 \\mu^2 + \\sigma^2 \\nu^2}{\\phi^2 + \\sigma^2}}{2\\frac{\\phi^2\\sigma^2}{\\phi^2 + \\sigma^2}})$$\n",
    "\n"
   ]
  },
  {
   "cell_type": "code",
   "execution_count": null,
   "id": "e8234b3d",
   "metadata": {},
   "outputs": [],
   "source": []
  },
  {
   "cell_type": "code",
   "execution_count": null,
   "id": "04e3f9c3",
   "metadata": {},
   "outputs": [],
   "source": []
  }
 ],
 "metadata": {
  "kernelspec": {
   "display_name": "Python 3 (ipykernel)",
   "language": "python",
   "name": "python3"
  },
  "language_info": {
   "codemirror_mode": {
    "name": "ipython",
    "version": 3
   },
   "file_extension": ".py",
   "mimetype": "text/x-python",
   "name": "python",
   "nbconvert_exporter": "python",
   "pygments_lexer": "ipython3",
   "version": "3.9.7"
  }
 },
 "nbformat": 4,
 "nbformat_minor": 5
}
