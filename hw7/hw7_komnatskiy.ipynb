{
 "cells": [
  {
   "cell_type": "code",
   "execution_count": 24,
   "id": "386d790d",
   "metadata": {},
   "outputs": [
    {
     "name": "stdout",
     "output_type": "stream",
     "text": [
      "0.006\n"
     ]
    }
   ],
   "source": [
    "#3\n",
    "import numpy as np\n",
    "import scipy.stats as sps\n",
    "\n",
    "sample = np.array(list(map(float, input().strip().split())))\n",
    "sample_size = len(sample)\n",
    "\n",
    "n = 10000\n",
    "\n",
    "mk = sps.norm.rvs(size=(n, sample_size))\n",
    "T = []\n",
    "for s in mk:\n",
    "    T.append(sps.cauchy.logpdf(s).mean() - sps.norm.logpdf(s).mean())\n",
    "T = np.array(T)\n",
    "c = sps.cauchy.logpdf(sample).mean() - sps.norm.logpdf(sample).mean()\n",
    "print((T > c).mean())"
   ]
  },
  {
   "cell_type": "code",
   "execution_count": 20,
   "id": "02c94253",
   "metadata": {},
   "outputs": [
    {
     "data": {
      "text/plain": [
       "0.01604665515437853"
      ]
     },
     "execution_count": 20,
     "metadata": {},
     "output_type": "execute_result"
    }
   ],
   "source": [
    "#2\n",
    "import numpy as np\n",
    "import scipy.stats as sps\n",
    "\n",
    "sample_size = 100\n",
    "\n",
    "g = lambda x: -2 * np.arcsin(np.sqrt(1 - x))\n",
    "2 * (1 - sps.norm.cdf( (g(0.1) - g(0.04)) * np.sqrt(sample_size) ))"
   ]
  },
  {
   "cell_type": "code",
   "execution_count": null,
   "id": "ed4ddadf",
   "metadata": {},
   "outputs": [],
   "source": [
    "#4\n",
    "1 + E^(-1) - E^(-x)"
   ]
  },
  {
   "cell_type": "code",
   "execution_count": 53,
   "id": "40507c2b",
   "metadata": {},
   "outputs": [
    {
     "data": {
      "text/plain": [
       "(5.812396136123533, 36.7369943876206, 36.878390227764015)"
      ]
     },
     "execution_count": 53,
     "metadata": {},
     "output_type": "execute_result"
    }
   ],
   "source": [
    "#1\n",
    "\n",
    "import numpy as np\n",
    "import pandas as pd\n",
    "import scipy.stats as sps\n",
    "\n",
    "data = pd.read_csv('body_temp.csv')\n",
    "\n",
    "sample = data.values.T[0]\n",
    "\n",
    "sample_size = len(sample)\n",
    "t = lambda s: np.sqrt(len(s)) * (s.mean() - 36.6) / s.std(ddof=1)\n",
    "edge = lambda t: sample.mean() - t * sample.std(ddof=1) / np.sqrt(len(sample))\n",
    "a = (1 - 0.95) / 2\n",
    "b = (1 + 0.95) / 2\n",
    "\n",
    "t(sample), edge(sps.t(sample_size - 1).ppf(b)), edge(sps.t(sample_size - 1).ppf(a))"
   ]
  }
 ],
 "metadata": {
  "kernelspec": {
   "display_name": "Python 3 (ipykernel)",
   "language": "python",
   "name": "python3"
  },
  "language_info": {
   "codemirror_mode": {
    "name": "ipython",
    "version": 3
   },
   "file_extension": ".py",
   "mimetype": "text/x-python",
   "name": "python",
   "nbconvert_exporter": "python",
   "pygments_lexer": "ipython3",
   "version": "3.9.7"
  }
 },
 "nbformat": 4,
 "nbformat_minor": 5
}
