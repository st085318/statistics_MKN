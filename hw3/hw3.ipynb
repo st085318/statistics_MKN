{
 "cells": [
  {
   "cell_type": "code",
   "execution_count": 2,
   "id": "ce334525",
   "metadata": {},
   "outputs": [
    {
     "data": {
      "text/plain": [
       "array([0.4608721 , 0.96084015])"
      ]
     },
     "execution_count": 2,
     "metadata": {},
     "output_type": "execute_result"
    }
   ],
   "source": [
    "#1\n",
    "import numpy as np\n",
    "data = np.array([(576, 3.39), (635, 3.30), (558, 2.81), (578, 3.03), (666, 3.44),\n",
    "                 (580, 3.07), (555, 3.0), (661, 3.43), (651, 3.36), (605, 3.13),\n",
    "                 (653, 3.12), (575, 2.74), (545, 2.76), (572, 2.88), (594, 2.96)])\n",
    "\n",
    "def generate(a:np.array, size, q):\n",
    "    sample = []\n",
    "    for i in range(q):\n",
    "        sample.append(np.array([a[j] for j in np.random.choice(len(a), size=(size))]))\n",
    "    return np.array(sample)\n",
    "\n",
    "np.random.seed(0)\n",
    "n = 10000\n",
    "sample = generate(data, len(data), n)\n",
    "coeffs = np.array([np.corrcoef(i.T)[0, 1] for i in sample])\n",
    "\n",
    "#np.corrcoef(data.T)[0, 1]\n",
    "quantile = 0.95\n",
    "np.quantile(coeffs, q=[(1 - quantile)/2, quantile + (1 - quantile)/2])"
   ]
  },
  {
   "cell_type": "code",
   "execution_count": null,
   "id": "5fc0b111",
   "metadata": {},
   "outputs": [],
   "source": []
  },
  {
   "cell_type": "code",
   "execution_count": 48,
   "id": "1f5b6af0",
   "metadata": {},
   "outputs": [],
   "source": [
    "table = {(0, 0, 0): 0,\n",
    " (0, 0, 1): 0,\n",
    " (0, 0, 2): 0,\n",
    " (0, 0, 3): 0,\n",
    " (0, 0, 5): 0,\n",
    " (0, 0, 6): 2,\n",
    " (0, 0, 7): 0,\n",
    " (0, 1, 1): 0,\n",
    " (0, 1, 2): 0,\n",
    " (0, 1, 3): 0,\n",
    " (0, 1, 5): 0,\n",
    " (0, 1, 6): 2,\n",
    " (0, 1, 7): 0,\n",
    " (0, 2, 2): 0,\n",
    " (0, 2, 3): 0,\n",
    " (0, 2, 5): 0,\n",
    " (0, 2, 6): 2,\n",
    " (0, 2, 7): 0,\n",
    " (0, 3, 3): 0,\n",
    " (0, 3, 5): 0,\n",
    " (0, 3, 6): 2,\n",
    " (0, 3, 7): 0,\n",
    " (0, 5, 5): 0,\n",
    " (0, 5, 6): 10,\n",
    " (0, 5, 7): 0,\n",
    " (0, 6, 6): 5,\n",
    " (0, 6, 7): 2,\n",
    " (0, 7, 7): 0,\n",
    " (1, 1, 1): 10,\n",
    " (1, 1, 2): 5,\n",
    " (1, 1, 3): 5,\n",
    " (1, 1, 5): 20,\n",
    " (1, 1, 6): 2,\n",
    " (1, 1, 7): 0,\n",
    " (1, 2, 2): 5,\n",
    " (1, 2, 3): 5,\n",
    " (1, 2, 5): 10,\n",
    " (1, 2, 6): 2,\n",
    " (1, 2, 7): 0,\n",
    " (1, 3, 3): 5,\n",
    " (1, 3, 5): 10,\n",
    " (1, 3, 6): 2,\n",
    " (1, 3, 7): 0,\n",
    " (1, 5, 5): 40,\n",
    " (1, 5, 6): 10,\n",
    " (1, 5, 7): 0,\n",
    " (1, 6, 6): 5,\n",
    " (1, 6, 7): 2,\n",
    " (1, 7, 7): 0,\n",
    " (2, 2, 2): 25,\n",
    " (2, 2, 3): 5,\n",
    " (2, 2, 5): 50,\n",
    " (2, 2, 6): 2,\n",
    " (2, 2, 7): 0,\n",
    " (2, 3, 3): 5,\n",
    " (2, 3, 5): 10,\n",
    " (2, 3, 6): 2,\n",
    " (2, 3, 7): 0,\n",
    " (2, 5, 5): 100,\n",
    " (2, 5, 6): 10,\n",
    " (2, 5, 7): 0,\n",
    " (2, 6, 6): 5,\n",
    " (2, 6, 7): 2,\n",
    " (2, 7, 7): 0,\n",
    " (3, 3, 3): 40,\n",
    " (3, 3, 5): 80,\n",
    " (3, 3, 6): 2,\n",
    " (3, 3, 7): 0,\n",
    " (3, 5, 5): 160,\n",
    " (3, 5, 6): 10,\n",
    " (3, 5, 7): 0,\n",
    " (3, 6, 6): 5,\n",
    " (3, 6, 7): 2,\n",
    " (3, 7, 7): 0,\n",
    " (5, 5, 5): 1000,\n",
    " (5, 5, 6): 40,\n",
    " (5, 5, 7): 320,\n",
    " (5, 6, 6): 20,\n",
    " (5, 6, 7): 10,\n",
    " (5, 7, 7): 160,\n",
    " (6, 6, 6): 10,\n",
    " (6, 6, 7): 5,\n",
    " (6, 7, 7): 2,\n",
    " (7, 7, 7): 80}"
   ]
  },
  {
   "cell_type": "code",
   "execution_count": null,
   "id": "d9724040",
   "metadata": {},
   "outputs": [],
   "source": []
  },
  {
   "cell_type": "code",
   "execution_count": 54,
   "id": "b9b3b70c",
   "metadata": {},
   "outputs": [
    {
     "data": {
      "text/plain": [
       "0.10772699153717268"
      ]
     },
     "execution_count": 54,
     "metadata": {},
     "output_type": "execute_result"
    }
   ],
   "source": [
    "#2\n",
    "with open(\"slot_138.txt\", \"r\") as f:\n",
    "    slots = []\n",
    "    for s in f.read().split(\"\\n\"):\n",
    "        slots.append(table[tuple(sorted(np.array([int(i) for i in s.split(\" \")])))])\n",
    "\n",
    "np.random.seed(0)\n",
    "def quantity_of_permutation(slot):\n",
    "    if len(set(slot)) == 1:\n",
    "        return 1\n",
    "    if len(set(slot)) == 2:\n",
    "        return 3\n",
    "    return 6\n",
    "\n",
    "n = 50000\n",
    "samples = np.random.choice(slots, size=(n, len(slots)))\n",
    "sample_mean = np.array([])\n",
    "for s in samples:\n",
    "    sample_mean = np.append(sample_mean, s.mean())\n",
    "y_mean = sample_mean.mean()\n",
    "RMSE = np.sqrt(((sample_mean - y_mean)**2).mean())\n",
    "RMSE"
   ]
  },
  {
   "cell_type": "code",
   "execution_count": null,
   "id": "0620be1e",
   "metadata": {},
   "outputs": [],
   "source": []
  },
  {
   "cell_type": "code",
   "execution_count": 50,
   "id": "d2e1577b",
   "metadata": {},
   "outputs": [
    {
     "data": {
      "text/plain": [
       "0.1501220107293654"
      ]
     },
     "execution_count": 50,
     "metadata": {},
     "output_type": "execute_result"
    }
   ],
   "source": [
    "#3\n",
    "np.random.seed(0)\n",
    "with open(\"slot_138.txt\", \"r\") as f:\n",
    "    slots = []\n",
    "    for s in f.read().split(\"\\n\"):\n",
    "        slots.append(np.array([int(i) for i in s.split(\" \")]))\n",
    "slots = np.array(slots)\n",
    "line_slots = slots.reshape(3 * len(slots))\n",
    "\n",
    "def quantity_of_permutation(slot):\n",
    "    if len(set(slot)) == 1:\n",
    "        return 1\n",
    "    if len(set(slot)) == 2:\n",
    "        return 3\n",
    "    return 6\n",
    "\n",
    "def get_probabilities(slots):\n",
    "    probabilities = {}\n",
    "    for i in range(8):\n",
    "        probabilities[i] = 0\n",
    "    for slot in slots:\n",
    "        for item in slot:\n",
    "            probabilities[item] += 1\n",
    "    for slot in probabilities.keys():\n",
    "        probabilities[slot] /= (len(slots)*3)\n",
    "    return probabilities\n",
    "\n",
    "def get_mean_stonks_by_probs(probabilities):\n",
    "    mean = 0\n",
    "    for slot, stonks in table.items():\n",
    "        mean += np.prod([probabilities[i] for i in slot])*stonks*quantity_of_permutation(slot)\n",
    "    return mean\n",
    "\n",
    "def param_generate(sample, quantity):\n",
    "    line_sample = np.random.choice(sample, size=(quantity, len(sample)))\n",
    "    return line_sample.reshape((quantity, len(sample)//3, 3))\n",
    "\n",
    "n = 50000\n",
    "exp_stonks = []\n",
    "samples = param_generate(line_slots, n)\n",
    "for sample in samples:\n",
    "    probs = get_probabilities(sample)\n",
    "    exp_stonks.append(get_mean_stonks_by_probs(probs))\n",
    "y_mean = get_mean_stonks_by_probs(get_probabilities(slots))\n",
    "RMSE = np.sqrt(((exp_stonks - y_mean)**2).mean())\n",
    "RMSE"
   ]
  },
  {
   "cell_type": "code",
   "execution_count": 51,
   "id": "c2f6fceb",
   "metadata": {},
   "outputs": [
    {
     "data": {
      "text/plain": [
       "0.4852764583478538"
      ]
     },
     "execution_count": 51,
     "metadata": {},
     "output_type": "execute_result"
    }
   ],
   "source": [
    "#4\n",
    "np.random.seed(0)\n",
    "with open(\"slot_138.txt\", \"r\") as f:\n",
    "    slots = []\n",
    "    for s in f.read().split(\"\\n\"):\n",
    "        slots.append(np.array([int(i) for i in s.split(\" \")]))\n",
    "slots = np.array(slots)\n",
    "line_slots = slots.reshape(3 * len(slots))\n",
    "\n",
    "def quantity_of_permutation(slot):\n",
    "    if len(set(slot)) == 1:\n",
    "        return 1\n",
    "    if len(set(slot)) == 2:\n",
    "        return 3\n",
    "    return 6\n",
    "\n",
    "def get_mean_stonks_by_sample(sample):\n",
    "    stonks = 0\n",
    "    for i in range(len(sample)):\n",
    "        stonks += table[tuple(sorted(sample[i]))]\n",
    "    return stonks/len(sample)\n",
    "\n",
    "def param_generate(sample, quantity):\n",
    "    line_sample = np.random.choice(sample, size=(quantity, len(sample)))\n",
    "    return line_sample.reshape((quantity, len(sample)//3, 3))\n",
    "\n",
    "n = 5000\n",
    "exp_stonks = []\n",
    "samples = param_generate(line_slots, n)\n",
    "for sample in samples:\n",
    "    exp_stonks.append(get_mean_stonks_by_sample(sample))\n",
    "y_mean = get_mean_stonks_by_probs(get_probabilities(slots))\n",
    "RMSE = np.sqrt(((np.array(exp_stonks) - y_mean)**2).mean())\n",
    "RMSE"
   ]
  },
  {
   "cell_type": "code",
   "execution_count": null,
   "id": "68d7d108",
   "metadata": {},
   "outputs": [],
   "source": []
  },
  {
   "cell_type": "code",
   "execution_count": 52,
   "id": "cb357806",
   "metadata": {},
   "outputs": [],
   "source": [
    "#5\n",
    "import numpy as np\n",
    "import scipy.stats as sps\n",
    "from typing import Callable, Tuple\n",
    "\n",
    "def bca_interval(sample: np.array,\n",
    "                 phi: Callable[[np.array], float],\n",
    "                 phi_bsample: np.array,\n",
    "                 gamma: float) -> Tuple[float, float]:\n",
    "    phi_star_i_mean = 0\n",
    "    for i, el in enumerate(sample):\n",
    "        phi_star_i = phi(np.concatenate((sample[:i], sample[i + 1:])))\n",
    "        phi_star_i_mean += phi_star_i\n",
    "    phi_star_i_mean /= len(sample)\n",
    "    \n",
    "    sum_cube = 0\n",
    "    sum_sq = 0\n",
    "    for i, el in enumerate(sample):\n",
    "        phi_star_i = phi(np.concatenate((sample[:i], sample[i + 1:])))\n",
    "        sum_cube += (phi_star_i_mean - phi_star_i) ** 3\n",
    "        sum_sq += (phi_star_i_mean - phi_star_i) ** 2\n",
    "        \n",
    "    a_star = sum_cube / (6 * (sum_sq ** (3 / 2)))\n",
    "    \n",
    "    z_star = sps.norm().ppf((phi_bsample < phi(sample)).sum() / len(phi_bsample))\n",
    "    z_al = sps.norm().ppf((1 - gamma) / 2)\n",
    "    z_nal = sps.norm().ppf(gamma + (1 - gamma) / 2)\n",
    "    alpha1 = sps.norm.cdf(z_star + (z_star + z_al)/(1 - a_star * (z_star + z_al)))\n",
    "    alpha2 = sps.norm.cdf(z_star + (z_star + z_nal)/(1 - a_star * (z_star + z_nal)))\n",
    "    \n",
    "    return (np.quantile(phi_bsample, alpha1), np.quantile(phi_bsample, alpha2))"
   ]
  },
  {
   "cell_type": "code",
   "execution_count": 53,
   "id": "f7c1d383",
   "metadata": {},
   "outputs": [
    {
     "name": "stdout",
     "output_type": "stream",
     "text": [
      "(-0.3534467446332709, 0.020685579590563646)\n"
     ]
    }
   ],
   "source": [
    "sample = ss.norm.rvs(size=100, random_state=1337)\n",
    "phi = np.mean\n",
    "phi_sample = ss.norm(loc=sample.mean(), scale=sample.std()/10).rvs(size=1000, random_state=1337)\n",
    "gamma = 0.95\n",
    "\n",
    "print(bca_interval(sample, phi, phi_sample, gamma)) # (-0.353446744633271, 0.020685579590563646)"
   ]
  },
  {
   "cell_type": "code",
   "execution_count": null,
   "id": "b95e2208",
   "metadata": {},
   "outputs": [],
   "source": []
  },
  {
   "cell_type": "code",
   "execution_count": null,
   "id": "3dba2011",
   "metadata": {},
   "outputs": [],
   "source": []
  }
 ],
 "metadata": {
  "kernelspec": {
   "display_name": "Python 3 (ipykernel)",
   "language": "python",
   "name": "python3"
  },
  "language_info": {
   "codemirror_mode": {
    "name": "ipython",
    "version": 3
   },
   "file_extension": ".py",
   "mimetype": "text/x-python",
   "name": "python",
   "nbconvert_exporter": "python",
   "pygments_lexer": "ipython3",
   "version": "3.9.7"
  }
 },
 "nbformat": 4,
 "nbformat_minor": 5
}
